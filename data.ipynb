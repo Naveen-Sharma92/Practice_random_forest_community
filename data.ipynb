{
 "cells": [
  {
   "cell_type": "code",
   "execution_count": 3,
   "metadata": {},
   "outputs": [],
   "source": [
    "import pandas as pd\n",
    "import numpy as np\n",
    "from sklearn.model_selection import train_test_split\n",
    "from sklearn.ensemble import RandomForestClassifier\n",
    "from sklearn.metrics import accuracy_score, classification_report, confusion_matrix\n"
   ]
  },
  {
   "cell_type": "code",
   "execution_count": 4,
   "metadata": {},
   "outputs": [],
   "source": [
    "optimized_dtypes = {\n",
    "    'YEAR': 'int16',\n",
    "    'MONTH': 'int8',\n",
    "    'DAY': 'int8',\n",
    "    'DAY_OF_WEEK': 'int8',\n",
    "    'FLIGHT_NUMBER': 'int16',\n",
    "    'SCHEDULED_DEPARTURE': 'int16',\n",
    "    'DEPARTURE_TIME': 'float32',\n",
    "    'DEPARTURE_DELAY': 'float32',\n",
    "    'TAXI_OUT': 'float32',\n",
    "    'WHEELS_OFF': 'float32',\n",
    "    'SCHEDULED_TIME': 'float32',\n",
    "    'ELAPSED_TIME': 'float32',\n",
    "    'AIR_TIME': 'float32',\n",
    "    'DISTANCE': 'int16',\n",
    "    'WHEELS_ON': 'float32',\n",
    "    'TAXI_IN': 'float32',\n",
    "    'SCHEDULED_ARRIVAL': 'int16',\n",
    "    'ARRIVAL_TIME': 'float32',\n",
    "    'ARRIVAL_DELAY': 'float32',\n",
    "    'DIVERTED': 'int8',\n",
    "    'CANCELLED': 'int8',\n",
    "    'AIRLINE': 'category',\n",
    "    'ORIGIN_AIRPORT': 'category',\n",
    "    'DESTINATION_AIRPORT': 'category'\n",
    "}"
   ]
  },
  {
   "cell_type": "code",
   "execution_count": 5,
   "metadata": {},
   "outputs": [
    {
     "name": "stdout",
     "output_type": "stream",
     "text": [
      "DataFrame created successfully.\n",
      "The dataset has 5,819,079 rows and 31 columns.\n",
      "Memory usage of the DataFrame:\n",
      "1061.2577543258667 MB\n"
     ]
    }
   ],
   "source": [
    "df = pd.read_csv('flights.csv', dtype=optimized_dtypes)\n",
    "print(\"DataFrame created successfully.\")\n",
    "print(f\"The dataset has {df.shape[0]:,} rows and {df.shape[1]} columns.\")\n",
    "print(\"Memory usage of the DataFrame:\")\n",
    "print(df.memory_usage(deep=True).sum() / (1024 ** 2), \"MB\")"
   ]
  },
  {
   "cell_type": "code",
   "execution_count": 6,
   "metadata": {},
   "outputs": [
    {
     "name": "stdout",
     "output_type": "stream",
     "text": [
      "\n",
      "## Descriptive Statistics ##\n",
      "            YEAR       MONTH         DAY  DAY_OF_WEEK  FLIGHT_NUMBER  \\\n",
      "count  5819079.0  5819079.00  5819079.00   5819079.00     5819079.00   \n",
      "mean      2015.0        6.52       15.70         3.93        2173.09   \n",
      "std          0.0        3.41        8.78         1.99        1757.06   \n",
      "min       2015.0        1.00        1.00         1.00           1.00   \n",
      "25%       2015.0        4.00        8.00         2.00         730.00   \n",
      "50%       2015.0        7.00       16.00         4.00        1690.00   \n",
      "75%       2015.0        9.00       23.00         6.00        3230.00   \n",
      "max       2015.0       12.00       31.00         7.00        9855.00   \n",
      "\n",
      "       SCHEDULED_DEPARTURE  DEPARTURE_TIME  DEPARTURE_DELAY    TAXI_OUT  \\\n",
      "count           5819079.00      5732926.00       5732926.00  5730032.00   \n",
      "mean               1329.60         1335.21             9.37       16.07   \n",
      "std                 483.75          496.42            37.08        8.90   \n",
      "min                   1.00            1.00           -82.00        1.00   \n",
      "25%                 917.00          921.00            -5.00       11.00   \n",
      "50%                1325.00         1330.00            -2.00       14.00   \n",
      "75%                1730.00         1740.00             7.00       19.00   \n",
      "max                2359.00         2400.00          1988.00      225.00   \n",
      "\n",
      "       WHEELS_OFF  ...  SCHEDULED_ARRIVAL  ARRIVAL_TIME  ARRIVAL_DELAY  \\\n",
      "count  5730032.00  ...         5819079.00    5726566.00     5714008.00   \n",
      "mean      1357.17  ...            1493.81       1476.49           4.41   \n",
      "std        498.01  ...             507.16        526.32          39.27   \n",
      "min          1.00  ...               1.00          1.00         -87.00   \n",
      "25%        935.00  ...            1110.00       1059.00         -13.00   \n",
      "50%       1343.00  ...            1520.00       1512.00          -5.00   \n",
      "75%       1754.00  ...            1918.00       1917.00           8.00   \n",
      "max       2400.00  ...            2400.00       2400.00        1971.00   \n",
      "\n",
      "         DIVERTED   CANCELLED  AIR_SYSTEM_DELAY  SECURITY_DELAY  \\\n",
      "count  5819079.00  5819079.00        1063439.00      1063439.00   \n",
      "mean         0.00        0.02             13.48            0.08   \n",
      "std          0.05        0.12             28.00            2.14   \n",
      "min          0.00        0.00              0.00            0.00   \n",
      "25%          0.00        0.00              0.00            0.00   \n",
      "50%          0.00        0.00              2.00            0.00   \n",
      "75%          0.00        0.00             18.00            0.00   \n",
      "max          1.00        1.00           1134.00          573.00   \n",
      "\n",
      "       AIRLINE_DELAY  LATE_AIRCRAFT_DELAY  WEATHER_DELAY  \n",
      "count     1063439.00           1063439.00     1063439.00  \n",
      "mean           18.97                23.47           2.92  \n",
      "std            48.16                43.20          20.43  \n",
      "min             0.00                 0.00           0.00  \n",
      "25%             0.00                 0.00           0.00  \n",
      "50%             2.00                 3.00           0.00  \n",
      "75%            19.00                29.00           0.00  \n",
      "max          1971.00              1331.00        1211.00  \n",
      "\n",
      "[8 rows x 26 columns]\n"
     ]
    }
   ],
   "source": [
    "print(\"\\n## Descriptive Statistics ##\")\n",
    "print(df.describe().round(2))"
   ]
  },
  {
   "cell_type": "code",
   "execution_count": 7,
   "metadata": {},
   "outputs": [
    {
     "name": "stdout",
     "output_type": "stream",
     "text": [
      "\n",
      "## Missing Values Count ##\n",
      "CANCELLATION_REASON    5729195\n",
      "SECURITY_DELAY         4755640\n",
      "AIR_SYSTEM_DELAY       4755640\n",
      "LATE_AIRCRAFT_DELAY    4755640\n",
      "WEATHER_DELAY          4755640\n",
      "AIRLINE_DELAY          4755640\n",
      "ARRIVAL_DELAY           105071\n",
      "ELAPSED_TIME            105071\n",
      "AIR_TIME                105071\n",
      "TAXI_IN                  92513\n",
      "WHEELS_ON                92513\n",
      "ARRIVAL_TIME             92513\n",
      "TAXI_OUT                 89047\n",
      "WHEELS_OFF               89047\n",
      "DEPARTURE_DELAY          86153\n",
      "DEPARTURE_TIME           86153\n",
      "TAIL_NUMBER              14721\n",
      "SCHEDULED_TIME               6\n",
      "dtype: int64\n"
     ]
    }
   ],
   "source": [
    "print(\"\\n## Missing Values Count ##\")\n",
    "missing_values = df.isnull().sum()\n",
    "print(missing_values[missing_values > 0].sort_values(ascending=False))"
   ]
  },
  {
   "cell_type": "code",
   "execution_count": 8,
   "metadata": {},
   "outputs": [
    {
     "name": "stdout",
     "output_type": "stream",
     "text": [
      "\n",
      "## Average Arrival Delay by Airline (in minutes) ##\n",
      "AIRLINE\n",
      "NK    14.47\n",
      "F9    12.50\n",
      "B6     6.68\n",
      "EV     6.59\n",
      "MQ     6.46\n",
      "OO     5.85\n",
      "UA     5.43\n",
      "VX     4.74\n",
      "WN     4.37\n",
      "US     3.71\n",
      "AA     3.45\n",
      "HA     2.02\n",
      "DL     0.19\n",
      "AS    -0.98\n",
      "Name: ARRIVAL_DELAY, dtype: float32\n"
     ]
    },
    {
     "name": "stderr",
     "output_type": "stream",
     "text": [
      "C:\\Users\\navsu\\AppData\\Local\\Temp\\ipykernel_29820\\4168402079.py:2: FutureWarning: The default of observed=False is deprecated and will be changed to True in a future version of pandas. Pass observed=False to retain current behavior or observed=True to adopt the future default and silence this warning.\n",
      "  airline_delays = df.groupby('AIRLINE')['ARRIVAL_DELAY'].mean().sort_values(ascending=False)\n"
     ]
    }
   ],
   "source": [
    "print(\"\\n## Average Arrival Delay by Airline (in minutes) ##\")\n",
    "airline_delays = df.groupby('AIRLINE')['ARRIVAL_DELAY'].mean().sort_values(ascending=False)\n",
    "print(airline_delays.round(2))"
   ]
  },
  {
   "cell_type": "code",
   "execution_count": 9,
   "metadata": {},
   "outputs": [
    {
     "name": "stdout",
     "output_type": "stream",
     "text": [
      "\n",
      "## Average Departure Delay by Hour of Day ##\n",
      "DEPARTURE_HOUR\n",
      "0      7.20\n",
      "1      8.09\n",
      "2      7.27\n",
      "3      8.92\n",
      "4     10.34\n",
      "5      1.90\n",
      "6      2.11\n",
      "7      3.25\n",
      "8      4.69\n",
      "9      5.68\n",
      "10     6.89\n",
      "11     7.78\n",
      "12     8.95\n",
      "13     9.80\n",
      "14    11.18\n",
      "15    11.94\n",
      "16    12.93\n",
      "17    13.84\n",
      "18    14.99\n",
      "19    15.08\n",
      "20    15.29\n",
      "21    13.72\n",
      "22    11.77\n",
      "23     9.52\n",
      "Name: DEPARTURE_DELAY, dtype: float32\n"
     ]
    }
   ],
   "source": [
    "print(\"\\n## Average Departure Delay by Hour of Day ##\")\n",
    "# Create an 'hour' column from the scheduled departure time\n",
    "df['DEPARTURE_HOUR'] = (df['SCHEDULED_DEPARTURE'] // 100).astype('int8')\n",
    "# Group by hour and calculate the mean delay\n",
    "hourly_delays = df.groupby('DEPARTURE_HOUR')['DEPARTURE_DELAY'].mean()\n",
    "print(hourly_delays.round(2))"
   ]
  },
  {
   "cell_type": "code",
   "execution_count": 10,
   "metadata": {},
   "outputs": [
    {
     "name": "stdout",
     "output_type": "stream",
     "text": [
      "\n",
      "## Total Flight Cancellations by Month ##\n",
      "MONTH\n",
      "2     20517\n",
      "1     11982\n",
      "3     11002\n",
      "6      9120\n",
      "12     8063\n",
      "5      5694\n",
      "8      5052\n",
      "7      4806\n",
      "11     4599\n",
      "4      4520\n",
      "10     2454\n",
      "9      2075\n",
      "Name: CANCELLED, dtype: int64\n"
     ]
    }
   ],
   "source": [
    "print(\"\\n## Total Flight Cancellations by Month ##\")\n",
    "monthly_cancellations = df.groupby('MONTH')['CANCELLED'].sum().sort_values(ascending=False)\n",
    "print(monthly_cancellations)"
   ]
  }
 ],
 "metadata": {
  "kernelspec": {
   "display_name": "Python 3",
   "language": "python",
   "name": "python3"
  },
  "language_info": {
   "codemirror_mode": {
    "name": "ipython",
    "version": 3
   },
   "file_extension": ".py",
   "mimetype": "text/x-python",
   "name": "python",
   "nbconvert_exporter": "python",
   "pygments_lexer": "ipython3",
   "version": "3.13.1"
  }
 },
 "nbformat": 4,
 "nbformat_minor": 2
}
