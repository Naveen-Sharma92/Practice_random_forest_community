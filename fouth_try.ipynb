{
 "cells": [
  {
   "cell_type": "code",
   "execution_count": 2,
   "metadata": {},
   "outputs": [],
   "source": [
    "import pandas as pd\n",
    "import numpy as np\n",
    "import time\n",
    "from sklearn.model_selection import train_test_split, GridSearchCV\n",
    "from sklearn.ensemble import RandomForestClassifier\n",
    "from sklearn.metrics import classification_report, confusion_matrix\n"
   ]
  },
  {
   "cell_type": "code",
   "execution_count": 3,
   "metadata": {},
   "outputs": [
    {
     "name": "stderr",
     "output_type": "stream",
     "text": [
      "C:\\Users\\navsu\\AppData\\Local\\Temp\\ipykernel_32776\\3817421549.py:1: DtypeWarning: Columns (7,8) have mixed types. Specify dtype option on import or set low_memory=False.\n",
      "  df_full = pd.read_csv('flights.csv')\n"
     ]
    }
   ],
   "source": [
    "df_full = pd.read_csv('flights.csv')"
   ]
  },
  {
   "cell_type": "code",
   "execution_count": 4,
   "metadata": {},
   "outputs": [
    {
     "name": "stderr",
     "output_type": "stream",
     "text": [
      "C:\\Users\\navsu\\AppData\\Local\\Temp\\ipykernel_32776\\2349182819.py:1: FutureWarning: A value is trying to be set on a copy of a DataFrame or Series through chained assignment using an inplace method.\n",
      "The behavior will change in pandas 3.0. This inplace method will never work because the intermediate object on which we are setting values always behaves as a copy.\n",
      "\n",
      "For example, when doing 'df[col].method(value, inplace=True)', try using 'df.method({col: value}, inplace=True)' or df[col] = df[col].method(value) instead, to perform the operation inplace on the original object.\n",
      "\n",
      "\n",
      "  df_full['ARRIVAL_DELAY'].fillna(0, inplace=True)\n"
     ]
    }
   ],
   "source": [
    "df_full['ARRIVAL_DELAY'].fillna(0, inplace=True)\n",
    "df_full['IS_DISRUPTED'] = ((df_full['CANCELLED'] == 1) | (df_full['ARRIVAL_DELAY'] > 15)).astype('int8')\n",
    "\n",
    "df_full['DEPARTURE_HOUR'] = (df_full['SCHEDULED_DEPARTURE'] // 100).astype('int8')\n",
    "\n",
    "df_full['AIRPORT_FLIGHTS_PER_DAY'] = df_full.groupby(['ORIGIN_AIRPORT', 'MONTH', 'DAY'])['FLIGHT_NUMBER'].transform('count')\n",
    "\n"
   ]
  },
  {
   "cell_type": "code",
   "execution_count": 5,
   "metadata": {},
   "outputs": [
    {
     "name": "stdout",
     "output_type": "stream",
     "text": [
      "Using a sample of 150,000 rows for tuning.\n"
     ]
    }
   ],
   "source": [
    "sample_size = 150000\n",
    "df_sample = df_full.sample(n=sample_size, random_state=42)\n",
    "print(f\"Using a sample of {sample_size:,} rows for tuning.\")\n"
   ]
  },
  {
   "cell_type": "code",
   "execution_count": 6,
   "metadata": {},
   "outputs": [],
   "source": [
    "train_df, test_df_for_safety = train_test_split(df_sample, test_size=0.2, random_state=42) # we only need train_df\n"
   ]
  },
  {
   "cell_type": "code",
   "execution_count": 7,
   "metadata": {},
   "outputs": [
    {
     "name": "stderr",
     "output_type": "stream",
     "text": [
      "C:\\Users\\navsu\\AppData\\Local\\Temp\\ipykernel_32776\\2378854232.py:5: FutureWarning: A value is trying to be set on a copy of a DataFrame or Series through chained assignment using an inplace method.\n",
      "The behavior will change in pandas 3.0. This inplace method will never work because the intermediate object on which we are setting values always behaves as a copy.\n",
      "\n",
      "For example, when doing 'df[col].method(value, inplace=True)', try using 'df.method({col: value}, inplace=True)' or df[col] = df[col].method(value) instead, to perform the operation inplace on the original object.\n",
      "\n",
      "\n",
      "  train_df['ORIGIN_AIRPORT_DISRUPTION_RATE'].fillna(global_disruption_rate, inplace=True)\n"
     ]
    }
   ],
   "source": [
    "origin_airport_disruption_rate = train_df.groupby('ORIGIN_AIRPORT')['IS_DISRUPTED'].mean().to_dict()\n",
    "global_disruption_rate = train_df['IS_DISRUPTED'].mean()\n",
    "\n",
    "train_df['ORIGIN_AIRPORT_DISRUPTION_RATE'] = train_df['ORIGIN_AIRPORT'].map(origin_airport_disruption_rate)\n",
    "train_df['ORIGIN_AIRPORT_DISRUPTION_RATE'].fillna(global_disruption_rate, inplace=True)\n"
   ]
  },
  {
   "cell_type": "code",
   "execution_count": 9,
   "metadata": {},
   "outputs": [
    {
     "name": "stderr",
     "output_type": "stream",
     "text": [
      "C:\\Users\\navsu\\AppData\\Local\\Temp\\ipykernel_32776\\3324764278.py:9: SettingWithCopyWarning: \n",
      "A value is trying to be set on a copy of a slice from a DataFrame\n",
      "\n",
      "See the caveats in the documentation: https://pandas.pydata.org/pandas-docs/stable/user_guide/indexing.html#returning-a-view-versus-a-copy\n",
      "  X_train.dropna(inplace=True)\n"
     ]
    },
    {
     "data": {
      "text/plain": [
       "3308391    0\n",
       "1708562    0\n",
       "1098229    0\n",
       "522689     0\n",
       "3499749    0\n",
       "          ..\n",
       "1893077    0\n",
       "2216506    0\n",
       "2421037    0\n",
       "2542290    0\n",
       "2583367    1\n",
       "Name: IS_DISRUPTED, Length: 120000, dtype: int8"
      ]
     },
     "execution_count": 9,
     "metadata": {},
     "output_type": "execute_result"
    }
   ],
   "source": [
    "features = [\n",
    "    'MONTH', 'DAY_OF_WEEK', 'DISTANCE', 'SCHEDULED_TIME', 'DEPARTURE_HOUR',\n",
    "    'AIRPORT_FLIGHTS_PER_DAY', 'ORIGIN_AIRPORT_DISRUPTION_RATE'\n",
    "]\n",
    "target = 'IS_DISRUPTED'\n",
    "\n",
    "X_train = train_df[features]\n",
    "y_train = train_df[target]\n",
    "X_train.dropna(inplace=True)\n",
    "y_train[X_train.index]\n",
    "\n"
   ]
  },
  {
   "cell_type": "code",
   "execution_count": 10,
   "metadata": {},
   "outputs": [
    {
     "name": "stdout",
     "output_type": "stream",
     "text": [
      "Fitting 3 folds for each of 96 candidates, totalling 288 fits\n",
      "\n",
      "GridSearchCV finished in 30.46 minutes.\n",
      "\n",
      "## Best Hyperparameters Found ##\n",
      "{'max_depth': 35, 'min_samples_leaf': 4, 'n_estimators': 300}\n",
      "\n",
      "Best F1-Weighted Score on Cross-Validation:\n",
      "0.7532\n"
     ]
    }
   ],
   "source": [
    "\n",
    "param_grid = {\n",
    "    'n_estimators': [100, 200, 300, 400],\n",
    "    'max_depth': [10, 20, 25, 30,35,40],\n",
    "    'min_samples_leaf': [2, 4, 6, 8],\n",
    "}\n",
    "\n",
    "grid_search = GridSearchCV(\n",
    "    estimator=RandomForestClassifier(random_state=42, class_weight='balanced'),\n",
    "    param_grid=param_grid,\n",
    "    cv=3,\n",
    "    n_jobs=-1,\n",
    "    scoring='f1_weighted', \n",
    "    verbose=2\n",
    ")\n",
    "\n",
    "start_time = time.time()\n",
    "grid_search.fit(X_train, y_train)\n",
    "end_time = time.time()\n",
    "\n",
    "print(f\"\\nGridSearchCV finished in {(end_time - start_time)/60:.2f} minutes.\")\n",
    "\n",
    "\n",
    "print(\"\\n## Best Hyperparameters Found ##\")\n",
    "print(grid_search.best_params_)\n",
    "\n",
    "print(\"\\nBest F1-Weighted Score on Cross-Validation:\")\n",
    "print(f\"{grid_search.best_score_:.4f}\")"
   ]
  },
  {
   "cell_type": "code",
   "execution_count": 11,
   "metadata": {},
   "outputs": [],
   "source": [
    "train_df, test_df = train_test_split(df_full, test_size=0.2, random_state=42)\n",
    "\n",
    "origin_airport_disruption_rate = train_df.groupby('ORIGIN_AIRPORT')['IS_DISRUPTED'].mean().to_dict()\n",
    "global_disruption_rate = train_df['IS_DISRUPTED'].mean()\n",
    "\n",
    "train_df['ORIGIN_AIRPORT_DISRUPTION_RATE'] = train_df['ORIGIN_AIRPORT'].map(origin_airport_disruption_rate).fillna(global_disruption_rate)\n",
    "test_df['ORIGIN_AIRPORT_DISRUPTION_RATE'] = test_df['ORIGIN_AIRPORT'].map(origin_airport_disruption_rate).fillna(global_disruption_rate)\n"
   ]
  },
  {
   "cell_type": "code",
   "execution_count": 12,
   "metadata": {},
   "outputs": [],
   "source": [
    "features = [\n",
    "    'MONTH', 'DAY_OF_WEEK', 'DISTANCE', 'SCHEDULED_TIME', 'DEPARTURE_HOUR',\n",
    "    'AIRPORT_FLIGHTS_PER_DAY', 'ORIGIN_AIRPORT_DISRUPTION_RATE'\n",
    "]\n",
    "target = 'IS_DISRUPTED'\n",
    "\n",
    "X_train = train_df[features]; \n",
    "y_train = train_df[target]\n",
    "X_test = test_df[features]; \n",
    "y_test = test_df[target]\n",
    "\n",
    "X_train = X_train.dropna()\n",
    "X_test = X_test.dropna()\n",
    "y_train = y_train[X_train.index]; y_test = y_test[X_test.index]\n",
    "\n"
   ]
  },
  {
   "cell_type": "code",
   "execution_count": 13,
   "metadata": {},
   "outputs": [
    {
     "name": "stdout",
     "output_type": "stream",
     "text": [
      "Final model training finished in 5.64 minutes.\n"
     ]
    }
   ],
   "source": [
    "\n",
    "\n",
    "final_model = RandomForestClassifier(\n",
    "    n_estimators=300,\n",
    "    max_depth=35,\n",
    "    min_samples_leaf=4,\n",
    "    random_state=42,\n",
    "    class_weight='balanced',\n",
    "    n_jobs=-1\n",
    ")\n",
    "\n",
    "start_time = time.time()\n",
    "final_model.fit(X_train, y_train)\n",
    "end_time = time.time()\n",
    "print(f\"Final model training finished in {(end_time - start_time)/60:.2f} minutes.\")\n",
    "\n"
   ]
  },
  {
   "cell_type": "code",
   "execution_count": 14,
   "metadata": {},
   "outputs": [
    {
     "name": "stdout",
     "output_type": "stream",
     "text": [
      "              precision    recall  f1-score   support\n",
      "\n",
      "     On-Time       0.87      0.83      0.85    941251\n",
      "   Disrupted       0.39      0.45      0.42    222565\n",
      "\n",
      "    accuracy                           0.76   1163816\n",
      "   macro avg       0.63      0.64      0.63   1163816\n",
      "weighted avg       0.77      0.76      0.77   1163816\n",
      "\n",
      "[[783779 157472]\n",
      " [121963 100602]]\n"
     ]
    }
   ],
   "source": [
    "y_pred = final_model.predict(X_test)\n",
    "print(classification_report(y_test, y_pred, target_names=['On-Time', 'Disrupted']))\n",
    "print(confusion_matrix(y_test, y_pred))"
   ]
  }
 ],
 "metadata": {
  "kernelspec": {
   "display_name": "Python 3",
   "language": "python",
   "name": "python3"
  },
  "language_info": {
   "codemirror_mode": {
    "name": "ipython",
    "version": 3
   },
   "file_extension": ".py",
   "mimetype": "text/x-python",
   "name": "python",
   "nbconvert_exporter": "python",
   "pygments_lexer": "ipython3",
   "version": "3.13.1"
  }
 },
 "nbformat": 4,
 "nbformat_minor": 2
}
