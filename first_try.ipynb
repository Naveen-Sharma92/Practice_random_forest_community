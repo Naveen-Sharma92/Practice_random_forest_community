{
 "cells": [
  {
   "cell_type": "code",
   "execution_count": 1,
   "metadata": {},
   "outputs": [],
   "source": [
    "import pandas as pd\n",
    "import numpy as np\n",
    "from sklearn.model_selection import train_test_split\n",
    "from sklearn.ensemble import RandomForestClassifier\n",
    "from sklearn.metrics import accuracy_score, classification_report, confusion_matrix\n",
    "\n"
   ]
  },
  {
   "cell_type": "code",
   "execution_count": null,
   "metadata": {},
   "outputs": [
    {
     "name": "stderr",
     "output_type": "stream",
     "text": [
      "C:\\Users\\navsu\\AppData\\Local\\Temp\\ipykernel_27892\\3888282073.py:1: DtypeWarning: Columns (7,8) have mixed types. Specify dtype option on import or set low_memory=False.\n",
      "  df = pd.read_csv('flights.csv')\n"
     ]
    },
    {
     "name": "stdout",
     "output_type": "stream",
     "text": [
      "Data loaded successfully.\n"
     ]
    }
   ],
   "source": [
    "df = pd.read_csv('flights.csv')\n",
    "print(\"Data loaded successfully.\")\n"
   ]
  },
  {
   "cell_type": "code",
   "execution_count": 3,
   "metadata": {},
   "outputs": [
    {
     "name": "stderr",
     "output_type": "stream",
     "text": [
      "C:\\Users\\navsu\\AppData\\Local\\Temp\\ipykernel_27892\\2144613985.py:1: FutureWarning: A value is trying to be set on a copy of a DataFrame or Series through chained assignment using an inplace method.\n",
      "The behavior will change in pandas 3.0. This inplace method will never work because the intermediate object on which we are setting values always behaves as a copy.\n",
      "\n",
      "For example, when doing 'df[col].method(value, inplace=True)', try using 'df.method({col: value}, inplace=True)' or df[col] = df[col].method(value) instead, to perform the operation inplace on the original object.\n",
      "\n",
      "\n",
      "  df['ARRIVAL_DELAY'].fillna(0, inplace=True)\n"
     ]
    }
   ],
   "source": [
    "\n",
    "df['ARRIVAL_DELAY'].fillna(0, inplace=True)\n",
    "\n",
    "df['IS_DISRUPTED'] = ((df['CANCELLED'] == 1) | (df['ARRIVAL_DELAY'] > 15)).astype('int8')\n",
    "\n",
    "\n",
    "df['DEPARTURE_HOUR'] = (df['SCHEDULED_DEPARTURE'] // 100).astype('int8')\n",
    "\n",
    "features = ['MONTH', 'DAY_OF_WEEK', 'AIRLINE', 'DISTANCE', 'SCHEDULED_TIME', 'DEPARTURE_HOUR']\n",
    "target = 'IS_DISRUPTED'"
   ]
  },
  {
   "cell_type": "code",
   "execution_count": null,
   "metadata": {},
   "outputs": [],
   "source": [
    "\n",
    "df_model = df[features + [target]].copy()\n",
    "df_model = pd.get_dummies(df_model, columns=['AIRLINE'], drop_first=True, dtype='int8')\n",
    "df_model.dropna(inplace=True)\n",
    "\n",
    "X = df_model.drop(columns=target)\n",
    "y = df_model[target]\n",
    "X_train, X_test, y_train, y_test = train_test_split(X, y, test_size=0.2, random_state=42, stratify=y)\n",
    "\n"
   ]
  },
  {
   "cell_type": "code",
   "execution_count": 5,
   "metadata": {},
   "outputs": [
    {
     "name": "stdout",
     "output_type": "stream",
     "text": [
      "Training the Random Forest model...\n",
      "Model training complete.\n"
     ]
    }
   ],
   "source": [
    "\n",
    "print(\"Training the Random Forest model...\")\n",
    "rf_classifier = RandomForestClassifier(\n",
    "    n_estimators=100,\n",
    "    random_state=42,\n",
    "    class_weight='balanced',\n",
    "    n_jobs=-1\n",
    ")\n",
    "rf_classifier.fit(X_train, y_train)\n",
    "print(\"Model training complete.\")\n"
   ]
  },
  {
   "cell_type": "code",
   "execution_count": 6,
   "metadata": {},
   "outputs": [
    {
     "name": "stdout",
     "output_type": "stream",
     "text": [
      "Evaluating the model...\n",
      "\n",
      "Model Accuracy: 69.38%\n",
      "\n",
      "## Classification Report ##\n",
      "              precision    recall  f1-score   support\n",
      "\n",
      "     On-Time       0.83      0.77      0.80    941140\n",
      "   Disrupted       0.27      0.35      0.31    222675\n",
      "\n",
      "    accuracy                           0.69   1163815\n",
      "   macro avg       0.55      0.56      0.55   1163815\n",
      "weighted avg       0.73      0.69      0.71   1163815\n",
      "\n",
      "\n",
      "## Confusion Matrix ##\n",
      "[[728943 212197]\n",
      " [144193  78482]]\n",
      "\n",
      "Script finished.\n"
     ]
    }
   ],
   "source": [
    "\n",
    "print(\"Evaluating the model...\")\n",
    "y_pred = rf_classifier.predict(X_test)\n",
    "\n",
    "accuracy = accuracy_score(y_test, y_pred)\n",
    "print(f\"\\nModel Accuracy: {accuracy:.2%}\")\n",
    "\n",
    "print(\"\\n## Classification Report ##\")\n",
    "target_names = ['On-Time', 'Disrupted']\n",
    "print(classification_report(y_test, y_pred, target_names=target_names))\n",
    "\n",
    "print(\"\\n## Confusion Matrix ##\")\n",
    "\n",
    "print(confusion_matrix(y_test, y_pred))\n",
    "print(\"\\nScript finished.\")"
   ]
  }
 ],
 "metadata": {
  "kernelspec": {
   "display_name": "Python 3",
   "language": "python",
   "name": "python3"
  },
  "language_info": {
   "codemirror_mode": {
    "name": "ipython",
    "version": 3
   },
   "file_extension": ".py",
   "mimetype": "text/x-python",
   "name": "python",
   "nbconvert_exporter": "python",
   "pygments_lexer": "ipython3",
   "version": "3.13.1"
  }
 },
 "nbformat": 4,
 "nbformat_minor": 2
}
